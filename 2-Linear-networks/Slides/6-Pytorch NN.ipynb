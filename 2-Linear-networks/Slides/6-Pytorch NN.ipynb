{
 "cells": [
  {
   "cell_type": "markdown",
   "id": "d28b98ef",
   "metadata": {},
   "source": [
    "## Pytorch NN API\n",
    "\n",
    "Pytorch already includes everything we need to train a linear model in less than 10 lines of code!"
   ]
  },
  {
   "cell_type": "code",
   "execution_count": 1,
   "id": "885a3bc9",
   "metadata": {
    "slideshow": {
     "slide_type": "skip"
    }
   },
   "outputs": [],
   "source": [
    "%matplotlib inline\n",
    "import random\n",
    "import torch\n",
    "from torch.utils import data\n",
    "from d2l import torch as d2l"
   ]
  },
  {
   "cell_type": "code",
   "execution_count": 2,
   "id": "c086c7ea",
   "metadata": {
    "slideshow": {
     "slide_type": "slide"
    }
   },
   "outputs": [
    {
     "name": "stderr",
     "output_type": "stream",
     "text": [
      "\u001B[34m\u001B[1mwandb\u001B[0m: Currently logged in as: \u001B[33mingambe\u001B[0m (use `wandb login --relogin` to force relogin)\n",
      "\u001B[34m\u001B[1mwandb\u001B[0m: wandb version 0.13.4 is available!  To upgrade, please run:\n",
      "\u001B[34m\u001B[1mwandb\u001B[0m:  $ pip install wandb --upgrade\n"
     ]
    },
    {
     "data": {
      "text/html": [
       "\n",
       "                    Syncing run <strong><a href=\"https://wandb.ai/ingambe/course/runs/sob8dsil\" target=\"_blank\">neat-brook-12</a></strong> to <a href=\"https://wandb.ai/ingambe/course\" target=\"_blank\">Weights & Biases</a> (<a href=\"https://docs.wandb.com/integrations/jupyter.html\" target=\"_blank\">docs</a>).<br/>\n",
       "\n",
       "                "
      ],
      "text/plain": [
       "<IPython.core.display.HTML object>"
      ]
     },
     "metadata": {},
     "output_type": "display_data"
    },
    {
     "data": {
      "text/html": [
       "<button onClick=\"this.nextSibling.style.display='block';this.style.display='none';\">Display W&B run</button><iframe src=\"https://wandb.ai/ingambe/course/runs/sob8dsil?jupyter=true\" style=\"border:none;width:100%;height:420px;display:none;\"></iframe>"
      ],
      "text/plain": [
       "<wandb.sdk.wandb_run.Run at 0x286c20160>"
      ]
     },
     "execution_count": 2,
     "metadata": {},
     "output_type": "execute_result"
    }
   ],
   "source": [
    "import wandb\n",
    "wandb.init(project='course') # specify the project of the current run"
   ]
  },
  {
   "cell_type": "code",
   "execution_count": 3,
   "id": "630a6827",
   "metadata": {
    "slideshow": {
     "slide_type": "slide"
    }
   },
   "outputs": [],
   "source": [
    "true_w = torch.tensor([2, -3.4, 5, 6])\n",
    "true_b = 2.4\n",
    "features, labels = d2l.synthetic_data(true_w, true_b, 2000)"
   ]
  },
  {
   "cell_type": "code",
   "execution_count": 4,
   "id": "ee15a747",
   "metadata": {
    "slideshow": {
     "slide_type": "-"
    }
   },
   "outputs": [],
   "source": [
    "def load_array(data_arrays, batch_size, is_train=True):\n",
    "    dataset = data.TensorDataset(*data_arrays)\n",
    "    return data.DataLoader(dataset, batch_size, shuffle=is_train)\n",
    "\n",
    "batch_size = 32\n",
    "data_iter = load_array((features, labels), batch_size)"
   ]
  },
  {
   "cell_type": "markdown",
   "id": "1d5eb666",
   "metadata": {
    "slideshow": {
     "slide_type": "-"
    }
   },
   "source": [
    "We can now iterate over minibtaches"
   ]
  },
  {
   "cell_type": "code",
   "execution_count": 5,
   "id": "cb5d27e4",
   "metadata": {},
   "outputs": [
    {
     "data": {
      "text/plain": [
       "[tensor([[-1.0824, -0.6017,  1.2200, -0.5085],\n",
       "         [ 0.5045, -1.1011,  0.0223,  0.7804],\n",
       "         [-0.9467,  0.3894, -0.1054, -0.1670],\n",
       "         [-1.0414,  1.0920, -1.1644,  1.0229],\n",
       "         [-1.0064, -2.0343, -0.2938,  0.2065],\n",
       "         [-0.3092, -0.6883, -1.4289, -0.0239],\n",
       "         [-0.2333, -1.9571,  0.3926,  0.3796],\n",
       "         [ 0.7285,  0.7739,  0.8588,  0.3186],\n",
       "         [ 1.1541,  1.1412,  0.1235, -0.0032],\n",
       "         [-0.5178,  0.1074, -0.9642, -0.9106],\n",
       "         [ 0.1920,  0.3873, -0.3374, -0.9240],\n",
       "         [ 1.4663,  0.6354, -2.3080, -1.5084],\n",
       "         [-1.0428, -0.2716,  0.7008, -0.4935],\n",
       "         [ 0.7133,  0.1503,  0.0660,  0.4144],\n",
       "         [ 0.1560, -0.9791, -1.4877, -0.0763],\n",
       "         [ 1.0307, -0.3545,  0.6066, -0.1240],\n",
       "         [-0.3168,  0.6879, -1.5370, -1.1506],\n",
       "         [ 1.3592, -2.4782, -0.1446, -1.2251],\n",
       "         [-0.0400,  1.0974, -0.8103,  0.3539],\n",
       "         [ 0.3119,  0.4564, -0.8001, -1.8872],\n",
       "         [ 0.6299,  0.4547,  0.4643, -1.5199],\n",
       "         [ 0.2956,  1.5508,  0.1337, -0.3586],\n",
       "         [ 0.3241,  1.8749, -0.0133, -0.0884],\n",
       "         [ 2.0000,  0.7437, -1.5293,  1.1936],\n",
       "         [ 1.0138, -0.3597,  0.0190, -0.7158],\n",
       "         [ 0.8025, -1.0778, -0.0127,  0.6463],\n",
       "         [-2.1072,  0.3599,  0.8870, -0.6039],\n",
       "         [-1.4567,  0.6968,  0.7912,  1.7631],\n",
       "         [-0.5282, -1.2449,  1.4996, -1.9595],\n",
       "         [ 0.5873,  1.3200, -0.1933, -0.2040],\n",
       "         [ 0.7749,  0.7660, -0.0545,  0.2127],\n",
       "         [ 1.1200, -0.3851,  0.0449,  0.0671]]),\n",
       " tensor([[  5.3317],\n",
       "         [ 11.9452],\n",
       "         [ -2.3284],\n",
       "         [ -3.0911],\n",
       "         [  7.0586],\n",
       "         [ -3.1671],\n",
       "         [ 12.8215],\n",
       "         [  7.4325],\n",
       "         [  1.4298],\n",
       "         [ -9.2754],\n",
       "         [ -5.7644],\n",
       "         [-17.4220],\n",
       "         [  1.7847],\n",
       "         [  6.1233],\n",
       "         [ -1.8371],\n",
       "         [  7.9502],\n",
       "         [-15.1671],\n",
       "         [  5.4728],\n",
       "         [ -3.3385],\n",
       "         [-13.8479],\n",
       "         [ -4.6787],\n",
       "         [ -3.7706],\n",
       "         [ -3.9142],\n",
       "         [  3.3718],\n",
       "         [  1.4527],\n",
       "         [ 11.4865],\n",
       "         [ -2.2301],\n",
       "         [ 11.6290],\n",
       "         [  1.3048],\n",
       "         [ -3.1144],\n",
       "         [  2.3554],\n",
       "         [  6.5844]])]"
      ]
     },
     "execution_count": 5,
     "metadata": {},
     "output_type": "execute_result"
    }
   ],
   "source": [
    "next(iter(data_iter))"
   ]
  },
  {
   "cell_type": "markdown",
   "id": "2b571b09",
   "metadata": {
    "slideshow": {
     "slide_type": "slide"
    }
   },
   "source": [
    "For standard operations, we can **use a framework's predefined layers,**\n",
    "which allow us to focus on the layers used to construct the model\n",
    "rather than having to focus on the implementation.\n",
    "\n",
    "The `Sequential` class defines a container\n",
    "for several layers that will be chained together.\n",
    "Given input data, a `Sequential` instance passes it through\n",
    "the first layer, in turn passing the output\n",
    "as the second layer's input and so forth.\n",
    "\n",
    "The layer is said to be *fully-connected*\n",
    "because each of its inputs is connected to each of its outputs\n",
    "by means of a matrix-vector multiplication."
   ]
  },
  {
   "cell_type": "code",
   "execution_count": 6,
   "id": "48343d99",
   "metadata": {},
   "outputs": [],
   "source": [
    "# `nn` is an abbreviation for neural networks\n",
    "from torch import nn\n",
    "\n",
    "net = nn.Sequential(nn.Linear(4, 1))"
   ]
  },
  {
   "cell_type": "markdown",
   "id": "46f23d59",
   "metadata": {
    "slideshow": {
     "slide_type": "slide"
    }
   },
   "source": [
    "We need to initialize the model parameters. By default Pytorch initialize the weight using an uniform distribution considering the size of the layer.\n",
    "\n",
    "You should **always** initialize your layer\n",
    "\n",
    "<center><img src=\"images/weights init.jpeg\" /></center>"
   ]
  },
  {
   "cell_type": "markdown",
   "id": "4439d9f2",
   "metadata": {
    "slideshow": {
     "slide_type": "slide"
    }
   },
   "source": [
    "Gradient descent doesn't move you far away from the initial starting point\n",
    "\n",
    "The literature is full of different weight initialization techniques\n",
    "\n",
    "You can write yours:"
   ]
  },
  {
   "cell_type": "code",
   "execution_count": 7,
   "id": "b30bb9dc",
   "metadata": {},
   "outputs": [
    {
     "data": {
      "text/plain": [
       "tensor([[ 0.0081,  0.0012, -0.0076,  0.0053]])"
      ]
     },
     "execution_count": 7,
     "metadata": {},
     "output_type": "execute_result"
    }
   ],
   "source": [
    "net[0].weight.data.normal_(0, 0.01) # net[0] is the first layer\n",
    "net[0].bias.data.fill_(0)\n",
    "net[0].weight.data"
   ]
  },
  {
   "cell_type": "markdown",
   "id": "b08ca6db",
   "metadata": {},
   "source": [
    "99.9999% of the time you will use one from the literature: [See Pytorch init doc](https://pytorch.org/docs/stable/nn.init.html)\n",
    "\n",
    "I recommend **Xavier normal**. It usually works well.\n",
    "If you have time/ressource, you can try different init and pick the best ;)"
   ]
  },
  {
   "cell_type": "code",
   "execution_count": 8,
   "id": "605492ef",
   "metadata": {},
   "outputs": [
    {
     "data": {
      "text/plain": [
       "tensor([[0.8848, 0.4234, 0.1607, 0.2211]])"
      ]
     },
     "execution_count": 8,
     "metadata": {},
     "output_type": "execute_result"
    }
   ],
   "source": [
    "def _weights_init(m):\n",
    "    if isinstance(m, nn.Linear):\n",
    "        torch.nn.init.xavier_normal_(m.weight)\n",
    "        m.bias.data.zero_()\n",
    "        \n",
    "net.apply(_weights_init)\n",
    "net[0].weight.data"
   ]
  },
  {
   "cell_type": "code",
   "execution_count": 9,
   "id": "a47fbb47",
   "metadata": {},
   "outputs": [
    {
     "data": {
      "text/plain": [
       "tensor([0.])"
      ]
     },
     "execution_count": 9,
     "metadata": {},
     "output_type": "execute_result"
    }
   ],
   "source": [
    "net[0].bias.data"
   ]
  },
  {
   "cell_type": "markdown",
   "id": "ffaa0622",
   "metadata": {
    "slideshow": {
     "slide_type": "slide"
    }
   },
   "source": [
    "Then we need to define the loss function we will use  \n",
    "The `MSELoss` class computes the mean squared error, also known as squared $L_2$ norm  \n",
    "By default, it returns the average loss over examples."
   ]
  },
  {
   "cell_type": "code",
   "execution_count": 10,
   "id": "6f2d84ff",
   "metadata": {},
   "outputs": [],
   "source": [
    "loss = nn.MSELoss()"
   ]
  },
  {
   "cell_type": "markdown",
   "id": "90f195d6",
   "metadata": {
    "slideshow": {
     "slide_type": "slide"
    }
   },
   "source": [
    "Weights and Biases can kee an eye on your model, login the structure and the gradient"
   ]
  },
  {
   "cell_type": "code",
   "execution_count": 11,
   "id": "ae50a6be",
   "metadata": {},
   "outputs": [
    {
     "name": "stderr",
     "output_type": "stream",
     "text": [
      "\u001B[34m\u001B[1mwandb\u001B[0m: logging graph, to disable use `wandb.watch(log_graph=False)`\n"
     ]
    },
    {
     "data": {
      "text/plain": [
       "[<wandb.wandb_torch.TorchGraph at 0x127692b50>]"
      ]
     },
     "execution_count": 11,
     "metadata": {},
     "output_type": "execute_result"
    }
   ],
   "source": [
    "wandb.watch(net, log=\"all\", criterion=loss, log_freq=1,  log_graph=(True)) #log frequency depend on your training"
   ]
  },
  {
   "cell_type": "markdown",
   "id": "d32d40a4",
   "metadata": {
    "slideshow": {
     "slide_type": "slide"
    }
   },
   "source": [
    "Last piece of the puzzle, we need to define the optimizer  \n",
    "When we (**instantiate an `SGD` instance,**) we will specify the parameters to optimize over (obtainable from our net via `net.parameters()`), with a dictionary of hyperparameters required by our optimization algorithm  \n",
    "Minibatch stochastic gradient descent just requires that we set the value `lr`, which is set to 0.03 here."
   ]
  },
  {
   "cell_type": "code",
   "execution_count": 12,
   "id": "02ec64dd",
   "metadata": {},
   "outputs": [],
   "source": [
    "optim = torch.optim.SGD(net.parameters(), lr=3e-2)"
   ]
  },
  {
   "cell_type": "code",
   "execution_count": 13,
   "id": "4217580f",
   "metadata": {},
   "outputs": [
    {
     "data": {
      "text/plain": [
       "Parameter containing:\n",
       "tensor([[0.8848, 0.4234, 0.1607, 0.2211]], requires_grad=True)"
      ]
     },
     "execution_count": 13,
     "metadata": {},
     "output_type": "execute_result"
    }
   ],
   "source": [
    "next(net.parameters())"
   ]
  },
  {
   "cell_type": "markdown",
   "id": "ddc550c0",
   "metadata": {
    "slideshow": {
     "slide_type": "slide"
    }
   },
   "source": [
    "Let's put everything together !\n",
    "\n",
    "The training loop itself is strikingly similar to what we did when implementing everything from scratch.\n",
    "\n",
    "For each minibatch, we go through the following ritual:\n",
    "\n",
    "* Generate predictions by calling `net(X)` and calculate the loss `l` (the forward propagation).\n",
    "* Calculate gradients by running the backpropagation.\n",
    "* Update the model parameters by invoking our optimizer.\n",
    "\n",
    "For good measure, we compute the loss after each epoch and print it to monitor progress."
   ]
  },
  {
   "cell_type": "code",
   "execution_count": 14,
   "id": "a8520988",
   "metadata": {},
   "outputs": [
    {
     "name": "stdout",
     "output_type": "stream",
     "text": [
      "epoch 1, loss 0.02120238170027733\n",
      "epoch 2, loss 9.883814345812425e-05\n",
      "epoch 3, loss 9.494879486737773e-05\n",
      "epoch 4, loss 9.5409392088186e-05\n",
      "epoch 5, loss 9.491280798101798e-05\n",
      "epoch 6, loss 9.502130706096068e-05\n",
      "epoch 7, loss 9.535530989523977e-05\n",
      "epoch 8, loss 9.483174653723836e-05\n",
      "epoch 9, loss 9.488984505878761e-05\n",
      "epoch 10, loss 9.518441220279783e-05\n"
     ]
    }
   ],
   "source": [
    "num_epochs = 10\n",
    "for epoch in range(num_epochs):\n",
    "    for X, y in data_iter:\n",
    "        y_hat = net(X)\n",
    "        l = loss(y_hat, y)\n",
    "        optim.zero_grad() # please don't forget!\n",
    "        l.backward() # remember: You need to tell w.r.t what the gradient is computed\n",
    "        optim.step() # do a step in the gradient direction\n",
    "    with torch.no_grad():\n",
    "        l = loss(net(features), labels) \n",
    "        print(f'epoch {epoch + 1}, loss {l.item()}')\n",
    "        wandb.log({'loss': l.item()}, step=epoch)"
   ]
  },
  {
   "cell_type": "markdown",
   "id": "1863865c",
   "metadata": {
    "slideshow": {
     "slide_type": "slide"
    }
   },
   "source": [
    "# ⚠️ NEVER FORGET TO ZERO_GRAD THE OPTIMIZER ⚠️"
   ]
  },
  {
   "cell_type": "markdown",
   "id": "53a5b438",
   "metadata": {
    "slideshow": {
     "slide_type": "slide"
    }
   },
   "source": [
    "By default the optimizer accumulate the gradient!\n",
    "\n",
    "If you don't set it back to 0, it will keep previous gradient and sum them!\n",
    "\n",
    "If your model doesn't converge check this first!"
   ]
  },
  {
   "cell_type": "markdown",
   "id": "c8ce8575",
   "metadata": {
    "slideshow": {
     "slide_type": "slide"
    }
   },
   "source": [
    "Now let's compare the true parameters and the learned one:"
   ]
  },
  {
   "cell_type": "code",
   "execution_count": 15,
   "id": "5925519f",
   "metadata": {},
   "outputs": [
    {
     "name": "stdout",
     "output_type": "stream",
     "text": [
      "error in estimating w: tensor([ 0.0004,  0.0004, -0.0002, -0.0004])\n",
      "error in estimating b: tensor([-8.5831e-06])\n"
     ]
    }
   ],
   "source": [
    "w = net[0].weight.data\n",
    "print('error in estimating w:', true_w - w.reshape(true_w.shape))\n",
    "b = net[0].bias.data\n",
    "print('error in estimating b:', true_b - b)"
   ]
  },
  {
   "cell_type": "markdown",
   "id": "f7f2f62a",
   "metadata": {
    "slideshow": {
     "slide_type": "slide"
    }
   },
   "source": [
    "We can save and load model to reuse them later"
   ]
  },
  {
   "cell_type": "code",
   "execution_count": 16,
   "id": "b444356a",
   "metadata": {},
   "outputs": [
    {
     "data": {
      "text/plain": [
       "OrderedDict([('0.weight', tensor([[ 1.9996, -3.4004,  5.0002,  6.0004]])),\n",
       "             ('0.bias', tensor([2.4000]))])"
      ]
     },
     "execution_count": 16,
     "metadata": {},
     "output_type": "execute_result"
    }
   ],
   "source": [
    "net.state_dict()"
   ]
  },
  {
   "cell_type": "code",
   "execution_count": 17,
   "id": "78f39bd3",
   "metadata": {},
   "outputs": [],
   "source": [
    "torch.save(net.state_dict(), 'my_model.pt')"
   ]
  },
  {
   "cell_type": "markdown",
   "id": "958c04ad",
   "metadata": {
    "slideshow": {
     "slide_type": "slide"
    }
   },
   "source": [
    "This save model's parameters as a dictionnary, but **doesn't save the structure** of the neural network"
   ]
  },
  {
   "cell_type": "code",
   "execution_count": 18,
   "id": "1cc584d8",
   "metadata": {},
   "outputs": [
    {
     "data": {
      "text/plain": [
       "OrderedDict([('0.weight', tensor([[ 1.9996, -3.4004,  5.0002,  6.0004]])),\n",
       "             ('0.bias', tensor([2.4000]))])"
      ]
     },
     "execution_count": 18,
     "metadata": {},
     "output_type": "execute_result"
    },
    {
     "name": "stderr",
     "output_type": "stream",
     "text": [
      "wandb: Network error (ConnectionError), entering retry loop.\n"
     ]
    }
   ],
   "source": [
    "new_model = nn.Sequential(nn.Linear(4, 1))\n",
    "new_model.load_state_dict(torch.load('my_model.pt'))\n",
    "new_model.state_dict()"
   ]
  },
  {
   "cell_type": "code",
   "execution_count": null,
   "id": "eeef5cbb",
   "metadata": {
    "slideshow": {
     "slide_type": "skip"
    }
   },
   "outputs": [],
   "source": []
  }
 ],
 "metadata": {
  "celltoolbar": "Slideshow",
  "kernelspec": {
   "display_name": "Python 3 (ipykernel)",
   "language": "python",
   "name": "python3"
  },
  "language_info": {
   "codemirror_mode": {
    "name": "ipython",
    "version": 3
   },
   "file_extension": ".py",
   "mimetype": "text/x-python",
   "name": "python",
   "nbconvert_exporter": "python",
   "pygments_lexer": "ipython3",
   "version": "3.9.12"
  }
 },
 "nbformat": 4,
 "nbformat_minor": 5
}
